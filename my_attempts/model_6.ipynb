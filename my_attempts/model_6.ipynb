{
 "cells": [
  {
   "cell_type": "markdown",
   "metadata": {},
   "source": [
    "# Decision Tree\n",
    "\n",
    "To determine the preferred drug type for patients based on their health data"
   ]
  },
  {
   "cell_type": "markdown",
   "metadata": {},
   "source": [
    "To begin, import required modules (note that visualizing decision trees requires `graphviz`, not `matplotlib`, so make sure you have installed it through `apt-get install graphviz` (for Ubuntu)):"
   ]
  },
  {
   "cell_type": "code",
   "execution_count": 1,
   "metadata": {},
   "outputs": [],
   "source": [
    "import numpy as np\n",
    "import pandas as pd\n",
    "from graphviz import Source\n",
    "import pickle\n",
    "\n",
    "from sklearn.preprocessing import LabelEncoder\n",
    "from sklearn.model_selection import train_test_split\n",
    "from sklearn.tree import DecisionTreeClassifier, export_graphviz\n",
    "from sklearn.metrics import accuracy_score"
   ]
  },
  {
   "cell_type": "markdown",
   "metadata": {},
   "source": [
    "Import the dataset and see data sample:"
   ]
  },
  {
   "cell_type": "code",
   "execution_count": 2,
   "metadata": {},
   "outputs": [
    {
     "data": {
      "text/html": [
       "<div>\n",
       "<style scoped>\n",
       "    .dataframe tbody tr th:only-of-type {\n",
       "        vertical-align: middle;\n",
       "    }\n",
       "\n",
       "    .dataframe tbody tr th {\n",
       "        vertical-align: top;\n",
       "    }\n",
       "\n",
       "    .dataframe thead th {\n",
       "        text-align: right;\n",
       "    }\n",
       "</style>\n",
       "<table border=\"1\" class=\"dataframe\">\n",
       "  <thead>\n",
       "    <tr style=\"text-align: right;\">\n",
       "      <th></th>\n",
       "      <th>Age</th>\n",
       "      <th>Sex</th>\n",
       "      <th>BP</th>\n",
       "      <th>Cholesterol</th>\n",
       "      <th>Na_to_K</th>\n",
       "      <th>Drug</th>\n",
       "    </tr>\n",
       "  </thead>\n",
       "  <tbody>\n",
       "    <tr>\n",
       "      <th>0</th>\n",
       "      <td>23</td>\n",
       "      <td>F</td>\n",
       "      <td>HIGH</td>\n",
       "      <td>HIGH</td>\n",
       "      <td>25.355</td>\n",
       "      <td>drugY</td>\n",
       "    </tr>\n",
       "    <tr>\n",
       "      <th>1</th>\n",
       "      <td>47</td>\n",
       "      <td>M</td>\n",
       "      <td>LOW</td>\n",
       "      <td>HIGH</td>\n",
       "      <td>13.093</td>\n",
       "      <td>drugC</td>\n",
       "    </tr>\n",
       "    <tr>\n",
       "      <th>2</th>\n",
       "      <td>47</td>\n",
       "      <td>M</td>\n",
       "      <td>LOW</td>\n",
       "      <td>HIGH</td>\n",
       "      <td>10.114</td>\n",
       "      <td>drugC</td>\n",
       "    </tr>\n",
       "    <tr>\n",
       "      <th>3</th>\n",
       "      <td>28</td>\n",
       "      <td>F</td>\n",
       "      <td>NORMAL</td>\n",
       "      <td>HIGH</td>\n",
       "      <td>7.798</td>\n",
       "      <td>drugX</td>\n",
       "    </tr>\n",
       "    <tr>\n",
       "      <th>4</th>\n",
       "      <td>61</td>\n",
       "      <td>F</td>\n",
       "      <td>LOW</td>\n",
       "      <td>HIGH</td>\n",
       "      <td>18.043</td>\n",
       "      <td>drugY</td>\n",
       "    </tr>\n",
       "  </tbody>\n",
       "</table>\n",
       "</div>"
      ],
      "text/plain": [
       "   Age Sex      BP Cholesterol  Na_to_K   Drug\n",
       "0   23   F    HIGH        HIGH   25.355  drugY\n",
       "1   47   M     LOW        HIGH   13.093  drugC\n",
       "2   47   M     LOW        HIGH   10.114  drugC\n",
       "3   28   F  NORMAL        HIGH    7.798  drugX\n",
       "4   61   F     LOW        HIGH   18.043  drugY"
      ]
     },
     "execution_count": 2,
     "metadata": {},
     "output_type": "execute_result"
    }
   ],
   "source": [
    "df = pd.read_csv(\"../datasets/drug200.csv\")\n",
    "df.head()"
   ]
  },
  {
   "cell_type": "markdown",
   "metadata": {},
   "source": [
    "and some details about the data:"
   ]
  },
  {
   "cell_type": "code",
   "execution_count": 3,
   "metadata": {},
   "outputs": [
    {
     "data": {
      "text/html": [
       "<div>\n",
       "<style scoped>\n",
       "    .dataframe tbody tr th:only-of-type {\n",
       "        vertical-align: middle;\n",
       "    }\n",
       "\n",
       "    .dataframe tbody tr th {\n",
       "        vertical-align: top;\n",
       "    }\n",
       "\n",
       "    .dataframe thead th {\n",
       "        text-align: right;\n",
       "    }\n",
       "</style>\n",
       "<table border=\"1\" class=\"dataframe\">\n",
       "  <thead>\n",
       "    <tr style=\"text-align: right;\">\n",
       "      <th></th>\n",
       "      <th>Age</th>\n",
       "      <th>Na_to_K</th>\n",
       "    </tr>\n",
       "  </thead>\n",
       "  <tbody>\n",
       "    <tr>\n",
       "      <th>count</th>\n",
       "      <td>200.000000</td>\n",
       "      <td>200.000000</td>\n",
       "    </tr>\n",
       "    <tr>\n",
       "      <th>mean</th>\n",
       "      <td>44.315000</td>\n",
       "      <td>16.084485</td>\n",
       "    </tr>\n",
       "    <tr>\n",
       "      <th>std</th>\n",
       "      <td>16.544315</td>\n",
       "      <td>7.223956</td>\n",
       "    </tr>\n",
       "    <tr>\n",
       "      <th>min</th>\n",
       "      <td>15.000000</td>\n",
       "      <td>6.269000</td>\n",
       "    </tr>\n",
       "    <tr>\n",
       "      <th>25%</th>\n",
       "      <td>31.000000</td>\n",
       "      <td>10.445500</td>\n",
       "    </tr>\n",
       "    <tr>\n",
       "      <th>50%</th>\n",
       "      <td>45.000000</td>\n",
       "      <td>13.936500</td>\n",
       "    </tr>\n",
       "    <tr>\n",
       "      <th>75%</th>\n",
       "      <td>58.000000</td>\n",
       "      <td>19.380000</td>\n",
       "    </tr>\n",
       "    <tr>\n",
       "      <th>max</th>\n",
       "      <td>74.000000</td>\n",
       "      <td>38.247000</td>\n",
       "    </tr>\n",
       "  </tbody>\n",
       "</table>\n",
       "</div>"
      ],
      "text/plain": [
       "              Age     Na_to_K\n",
       "count  200.000000  200.000000\n",
       "mean    44.315000   16.084485\n",
       "std     16.544315    7.223956\n",
       "min     15.000000    6.269000\n",
       "25%     31.000000   10.445500\n",
       "50%     45.000000   13.936500\n",
       "75%     58.000000   19.380000\n",
       "max     74.000000   38.247000"
      ]
     },
     "execution_count": 3,
     "metadata": {},
     "output_type": "execute_result"
    }
   ],
   "source": [
    "df.describe()"
   ]
  },
  {
   "cell_type": "markdown",
   "metadata": {},
   "source": [
    "Put the independent variables into a separate variable (just for simplicity):"
   ]
  },
  {
   "cell_type": "code",
   "execution_count": 4,
   "metadata": {},
   "outputs": [],
   "source": [
    "x = df[['Age', 'Sex', 'BP', 'Cholesterol', 'Na_to_K']].values"
   ]
  },
  {
   "cell_type": "markdown",
   "metadata": {},
   "source": [
    "Now, `scikit-learn`'s `DecisionTreeClassifier` cannot work with categorical variables, so we need to convert these variables into integer values:"
   ]
  },
  {
   "cell_type": "code",
   "execution_count": 5,
   "metadata": {},
   "outputs": [],
   "source": [
    "x[:,1] = LabelEncoder().fit(['F', 'M']).transform(x[:,1])\n",
    "x[:,2] = LabelEncoder().fit(['LOW', 'NORMAL', 'HIGH']).transform(x[:,2])\n",
    "x[:,3] = LabelEncoder().fit(['NORMAL', 'HIGH']).transform(x[:,3])"
   ]
  },
  {
   "cell_type": "markdown",
   "metadata": {},
   "source": [
    "To give a glimpse of what we just did:"
   ]
  },
  {
   "cell_type": "code",
   "execution_count": 6,
   "metadata": {},
   "outputs": [
    {
     "name": "stdout",
     "output_type": "stream",
     "text": [
      "Before: ['F' 'M' 'M' 'F' 'F' 'F' 'F' 'M' 'M' 'M']\n",
      "After: [0 1 1 0 0 0 0 1 1 1]\n"
     ]
    }
   ],
   "source": [
    "print(f\"Before: {df['Sex'].values[:10]}\")\n",
    "print(f\"After: {x[:,1][:10]}\")"
   ]
  },
  {
   "cell_type": "markdown",
   "metadata": {},
   "source": [
    "Split the dataset into training and test sets:"
   ]
  },
  {
   "cell_type": "code",
   "execution_count": 7,
   "metadata": {},
   "outputs": [],
   "source": [
    "X_train, X_test, y_train, y_test = train_test_split(x, df['Drug'], test_size=0.25)"
   ]
  },
  {
   "cell_type": "markdown",
   "metadata": {},
   "source": [
    "Initialize the model and fit it to training data:"
   ]
  },
  {
   "cell_type": "code",
   "execution_count": 8,
   "metadata": {},
   "outputs": [
    {
     "data": {
      "text/plain": [
       "DecisionTreeClassifier(criterion='entropy', max_depth=4)"
      ]
     },
     "execution_count": 8,
     "metadata": {},
     "output_type": "execute_result"
    }
   ],
   "source": [
    "model = DecisionTreeClassifier(criterion='entropy', max_depth=4)\n",
    "model.fit(X_train, y_train)"
   ]
  },
  {
   "cell_type": "markdown",
   "metadata": {},
   "source": [
    "Test the model on test data:"
   ]
  },
  {
   "cell_type": "code",
   "execution_count": 9,
   "metadata": {},
   "outputs": [],
   "source": [
    "predictions = model.predict(X_test)"
   ]
  },
  {
   "cell_type": "markdown",
   "metadata": {},
   "source": [
    "And check how well it works:"
   ]
  },
  {
   "cell_type": "code",
   "execution_count": 10,
   "metadata": {},
   "outputs": [
    {
     "name": "stdout",
     "output_type": "stream",
     "text": [
      "Model Accuracy: 0.98\n"
     ]
    }
   ],
   "source": [
    "print(\"Model Accuracy: {}\".format(accuracy_score(y_test, predictions)))"
   ]
  },
  {
   "cell_type": "markdown",
   "metadata": {},
   "source": [
    "Pretty good indeed! Let's see what our model is i.e. the actual decision tree constructed:"
   ]
  },
  {
   "cell_type": "code",
   "execution_count": 11,
   "metadata": {},
   "outputs": [
    {
     "data": {
      "image/svg+xml": [
       "<?xml version=\"1.0\" encoding=\"UTF-8\" standalone=\"no\"?>\n",
       "<!DOCTYPE svg PUBLIC \"-//W3C//DTD SVG 1.1//EN\"\n",
       " \"http://www.w3.org/Graphics/SVG/1.1/DTD/svg11.dtd\">\n",
       "<!-- Generated by graphviz version 2.43.0 (0)\n",
       " -->\n",
       "<!-- Title: Tree Pages: 1 -->\n",
       "<svg width=\"635pt\" height=\"552pt\"\n",
       " viewBox=\"0.00 0.00 635.00 552.00\" xmlns=\"http://www.w3.org/2000/svg\" xmlns:xlink=\"http://www.w3.org/1999/xlink\">\n",
       "<g id=\"graph0\" class=\"graph\" transform=\"scale(1 1) rotate(0) translate(4 548)\">\n",
       "<title>Tree</title>\n",
       "<polygon fill=\"white\" stroke=\"transparent\" points=\"-4,4 -4,-548 631,-548 631,4 -4,4\"/>\n",
       "<!-- 0 -->\n",
       "<g id=\"node1\" class=\"node\">\n",
       "<title>0</title>\n",
       "<polygon fill=\"#f9d3f1\" stroke=\"black\" points=\"479.5,-544 311.5,-544 311.5,-461 479.5,-461 479.5,-544\"/>\n",
       "<text text-anchor=\"start\" x=\"344\" y=\"-528.8\" font-family=\"Times,serif\" font-size=\"14.00\">Na_to_K ≤ 14.829</text>\n",
       "<text text-anchor=\"start\" x=\"351.5\" y=\"-513.8\" font-family=\"Times,serif\" font-size=\"14.00\">entropy = 1.963</text>\n",
       "<text text-anchor=\"start\" x=\"355\" y=\"-498.8\" font-family=\"Times,serif\" font-size=\"14.00\">samples = 150</text>\n",
       "<text text-anchor=\"start\" x=\"319.5\" y=\"-483.8\" font-family=\"Times,serif\" font-size=\"14.00\">value = [16, 11, 13, 43, 67]</text>\n",
       "<text text-anchor=\"start\" x=\"357\" y=\"-468.8\" font-family=\"Times,serif\" font-size=\"14.00\">class = drugY</text>\n",
       "</g>\n",
       "<!-- 1 -->\n",
       "<g id=\"node2\" class=\"node\">\n",
       "<title>1</title>\n",
       "<polygon fill=\"#b0aff5\" stroke=\"black\" points=\"392,-425 231,-425 231,-342 392,-342 392,-425\"/>\n",
       "<text text-anchor=\"start\" x=\"287\" y=\"-409.8\" font-family=\"Times,serif\" font-size=\"14.00\">BP ≤ 0.5</text>\n",
       "<text text-anchor=\"start\" x=\"267.5\" y=\"-394.8\" font-family=\"Times,serif\" font-size=\"14.00\">entropy = 1.755</text>\n",
       "<text text-anchor=\"start\" x=\"274.5\" y=\"-379.8\" font-family=\"Times,serif\" font-size=\"14.00\">samples = 83</text>\n",
       "<text text-anchor=\"start\" x=\"239\" y=\"-364.8\" font-family=\"Times,serif\" font-size=\"14.00\">value = [16, 11, 13, 43, 0]</text>\n",
       "<text text-anchor=\"start\" x=\"273\" y=\"-349.8\" font-family=\"Times,serif\" font-size=\"14.00\">class = drugX</text>\n",
       "</g>\n",
       "<!-- 0&#45;&gt;1 -->\n",
       "<g id=\"edge1\" class=\"edge\">\n",
       "<title>0&#45;&gt;1</title>\n",
       "<path fill=\"none\" stroke=\"black\" d=\"M366.36,-460.91C359.97,-452.01 353.15,-442.51 346.56,-433.33\"/>\n",
       "<polygon fill=\"black\" stroke=\"black\" points=\"349.27,-431.1 340.59,-425.02 343.58,-435.19 349.27,-431.1\"/>\n",
       "<text text-anchor=\"middle\" x=\"336.54\" y=\"-445.99\" font-family=\"Times,serif\" font-size=\"14.00\">True</text>\n",
       "</g>\n",
       "<!-- 10 -->\n",
       "<g id=\"node11\" class=\"node\">\n",
       "<title>10</title>\n",
       "<polygon fill=\"#e539c0\" stroke=\"black\" points=\"551,-417.5 410,-417.5 410,-349.5 551,-349.5 551,-417.5\"/>\n",
       "<text text-anchor=\"start\" x=\"443\" y=\"-402.3\" font-family=\"Times,serif\" font-size=\"14.00\">entropy = 0.0</text>\n",
       "<text text-anchor=\"start\" x=\"443.5\" y=\"-387.3\" font-family=\"Times,serif\" font-size=\"14.00\">samples = 67</text>\n",
       "<text text-anchor=\"start\" x=\"418\" y=\"-372.3\" font-family=\"Times,serif\" font-size=\"14.00\">value = [0, 0, 0, 0, 67]</text>\n",
       "<text text-anchor=\"start\" x=\"442\" y=\"-357.3\" font-family=\"Times,serif\" font-size=\"14.00\">class = drugY</text>\n",
       "</g>\n",
       "<!-- 0&#45;&gt;10 -->\n",
       "<g id=\"edge10\" class=\"edge\">\n",
       "<title>0&#45;&gt;10</title>\n",
       "<path fill=\"none\" stroke=\"black\" d=\"M424.99,-460.91C433.25,-449.54 442.23,-437.18 450.51,-425.77\"/>\n",
       "<polygon fill=\"black\" stroke=\"black\" points=\"453.36,-427.81 456.4,-417.67 447.7,-423.7 453.36,-427.81\"/>\n",
       "<text text-anchor=\"middle\" x=\"460.32\" y=\"-438.66\" font-family=\"Times,serif\" font-size=\"14.00\">False</text>\n",
       "</g>\n",
       "<!-- 2 -->\n",
       "<g id=\"node3\" class=\"node\">\n",
       "<title>2</title>\n",
       "<polygon fill=\"#f7d8c1\" stroke=\"black\" points=\"302.5,-306 154.5,-306 154.5,-223 302.5,-223 302.5,-306\"/>\n",
       "<text text-anchor=\"start\" x=\"197.5\" y=\"-290.8\" font-family=\"Times,serif\" font-size=\"14.00\">Age ≤ 51.5</text>\n",
       "<text text-anchor=\"start\" x=\"184.5\" y=\"-275.8\" font-family=\"Times,serif\" font-size=\"14.00\">entropy = 0.975</text>\n",
       "<text text-anchor=\"start\" x=\"191.5\" y=\"-260.8\" font-family=\"Times,serif\" font-size=\"14.00\">samples = 27</text>\n",
       "<text text-anchor=\"start\" x=\"162.5\" y=\"-245.8\" font-family=\"Times,serif\" font-size=\"14.00\">value = [16, 11, 0, 0, 0]</text>\n",
       "<text text-anchor=\"start\" x=\"190\" y=\"-230.8\" font-family=\"Times,serif\" font-size=\"14.00\">class = drugA</text>\n",
       "</g>\n",
       "<!-- 1&#45;&gt;2 -->\n",
       "<g id=\"edge2\" class=\"edge\">\n",
       "<title>1&#45;&gt;2</title>\n",
       "<path fill=\"none\" stroke=\"black\" d=\"M282.7,-341.91C276.39,-333.01 269.65,-323.51 263.14,-314.33\"/>\n",
       "<polygon fill=\"black\" stroke=\"black\" points=\"265.89,-312.15 257.25,-306.02 260.18,-316.2 265.89,-312.15\"/>\n",
       "</g>\n",
       "<!-- 5 -->\n",
       "<g id=\"node6\" class=\"node\">\n",
       "<title>5</title>\n",
       "<polygon fill=\"#7775ed\" stroke=\"black\" points=\"468.5,-306 320.5,-306 320.5,-223 468.5,-223 468.5,-306\"/>\n",
       "<text text-anchor=\"start\" x=\"347\" y=\"-290.8\" font-family=\"Times,serif\" font-size=\"14.00\">Cholesterol ≤ 0.5</text>\n",
       "<text text-anchor=\"start\" x=\"350.5\" y=\"-275.8\" font-family=\"Times,serif\" font-size=\"14.00\">entropy = 0.782</text>\n",
       "<text text-anchor=\"start\" x=\"357.5\" y=\"-260.8\" font-family=\"Times,serif\" font-size=\"14.00\">samples = 56</text>\n",
       "<text text-anchor=\"start\" x=\"328.5\" y=\"-245.8\" font-family=\"Times,serif\" font-size=\"14.00\">value = [0, 0, 13, 43, 0]</text>\n",
       "<text text-anchor=\"start\" x=\"356\" y=\"-230.8\" font-family=\"Times,serif\" font-size=\"14.00\">class = drugX</text>\n",
       "</g>\n",
       "<!-- 1&#45;&gt;5 -->\n",
       "<g id=\"edge5\" class=\"edge\">\n",
       "<title>1&#45;&gt;5</title>\n",
       "<path fill=\"none\" stroke=\"black\" d=\"M340.3,-341.91C346.61,-333.01 353.35,-323.51 359.86,-314.33\"/>\n",
       "<polygon fill=\"black\" stroke=\"black\" points=\"362.82,-316.2 365.75,-306.02 357.11,-312.15 362.82,-316.2\"/>\n",
       "</g>\n",
       "<!-- 3 -->\n",
       "<g id=\"node4\" class=\"node\">\n",
       "<title>3</title>\n",
       "<polygon fill=\"#e58139\" stroke=\"black\" points=\"141,-179.5 0,-179.5 0,-111.5 141,-111.5 141,-179.5\"/>\n",
       "<text text-anchor=\"start\" x=\"33\" y=\"-164.3\" font-family=\"Times,serif\" font-size=\"14.00\">entropy = 0.0</text>\n",
       "<text text-anchor=\"start\" x=\"33.5\" y=\"-149.3\" font-family=\"Times,serif\" font-size=\"14.00\">samples = 16</text>\n",
       "<text text-anchor=\"start\" x=\"8\" y=\"-134.3\" font-family=\"Times,serif\" font-size=\"14.00\">value = [16, 0, 0, 0, 0]</text>\n",
       "<text text-anchor=\"start\" x=\"32\" y=\"-119.3\" font-family=\"Times,serif\" font-size=\"14.00\">class = drugA</text>\n",
       "</g>\n",
       "<!-- 2&#45;&gt;3 -->\n",
       "<g id=\"edge3\" class=\"edge\">\n",
       "<title>2&#45;&gt;3</title>\n",
       "<path fill=\"none\" stroke=\"black\" d=\"M173.68,-222.91C157.44,-210.88 139.69,-197.73 123.56,-185.79\"/>\n",
       "<polygon fill=\"black\" stroke=\"black\" points=\"125.41,-182.81 115.29,-179.67 121.24,-188.43 125.41,-182.81\"/>\n",
       "</g>\n",
       "<!-- 4 -->\n",
       "<g id=\"node5\" class=\"node\">\n",
       "<title>4</title>\n",
       "<polygon fill=\"#7be539\" stroke=\"black\" points=\"300,-179.5 159,-179.5 159,-111.5 300,-111.5 300,-179.5\"/>\n",
       "<text text-anchor=\"start\" x=\"192\" y=\"-164.3\" font-family=\"Times,serif\" font-size=\"14.00\">entropy = 0.0</text>\n",
       "<text text-anchor=\"start\" x=\"192.5\" y=\"-149.3\" font-family=\"Times,serif\" font-size=\"14.00\">samples = 11</text>\n",
       "<text text-anchor=\"start\" x=\"167\" y=\"-134.3\" font-family=\"Times,serif\" font-size=\"14.00\">value = [0, 11, 0, 0, 0]</text>\n",
       "<text text-anchor=\"start\" x=\"191.5\" y=\"-119.3\" font-family=\"Times,serif\" font-size=\"14.00\">class = drugB</text>\n",
       "</g>\n",
       "<!-- 2&#45;&gt;4 -->\n",
       "<g id=\"edge4\" class=\"edge\">\n",
       "<title>2&#45;&gt;4</title>\n",
       "<path fill=\"none\" stroke=\"black\" d=\"M228.85,-222.91C228.94,-212.2 229.04,-200.62 229.13,-189.78\"/>\n",
       "<polygon fill=\"black\" stroke=\"black\" points=\"232.63,-189.7 229.22,-179.67 225.63,-189.64 232.63,-189.7\"/>\n",
       "</g>\n",
       "<!-- 6 -->\n",
       "<g id=\"node7\" class=\"node\">\n",
       "<title>6</title>\n",
       "<polygon fill=\"#e5e5fc\" stroke=\"black\" points=\"467.5,-187 319.5,-187 319.5,-104 467.5,-104 467.5,-187\"/>\n",
       "<text text-anchor=\"start\" x=\"369\" y=\"-171.8\" font-family=\"Times,serif\" font-size=\"14.00\">BP ≤ 1.5</text>\n",
       "<text text-anchor=\"start\" x=\"349.5\" y=\"-156.8\" font-family=\"Times,serif\" font-size=\"14.00\">entropy = 0.996</text>\n",
       "<text text-anchor=\"start\" x=\"356.5\" y=\"-141.8\" font-family=\"Times,serif\" font-size=\"14.00\">samples = 28</text>\n",
       "<text text-anchor=\"start\" x=\"327.5\" y=\"-126.8\" font-family=\"Times,serif\" font-size=\"14.00\">value = [0, 0, 13, 15, 0]</text>\n",
       "<text text-anchor=\"start\" x=\"355\" y=\"-111.8\" font-family=\"Times,serif\" font-size=\"14.00\">class = drugX</text>\n",
       "</g>\n",
       "<!-- 5&#45;&gt;6 -->\n",
       "<g id=\"edge6\" class=\"edge\">\n",
       "<title>5&#45;&gt;6</title>\n",
       "<path fill=\"none\" stroke=\"black\" d=\"M394.15,-222.91C394.08,-214.65 394.01,-205.86 393.93,-197.3\"/>\n",
       "<polygon fill=\"black\" stroke=\"black\" points=\"397.43,-196.99 393.85,-187.02 390.43,-197.05 397.43,-196.99\"/>\n",
       "</g>\n",
       "<!-- 9 -->\n",
       "<g id=\"node10\" class=\"node\">\n",
       "<title>9</title>\n",
       "<polygon fill=\"#3c39e5\" stroke=\"black\" points=\"627,-179.5 486,-179.5 486,-111.5 627,-111.5 627,-179.5\"/>\n",
       "<text text-anchor=\"start\" x=\"519\" y=\"-164.3\" font-family=\"Times,serif\" font-size=\"14.00\">entropy = 0.0</text>\n",
       "<text text-anchor=\"start\" x=\"519.5\" y=\"-149.3\" font-family=\"Times,serif\" font-size=\"14.00\">samples = 28</text>\n",
       "<text text-anchor=\"start\" x=\"494\" y=\"-134.3\" font-family=\"Times,serif\" font-size=\"14.00\">value = [0, 0, 0, 28, 0]</text>\n",
       "<text text-anchor=\"start\" x=\"518\" y=\"-119.3\" font-family=\"Times,serif\" font-size=\"14.00\">class = drugX</text>\n",
       "</g>\n",
       "<!-- 5&#45;&gt;9 -->\n",
       "<g id=\"edge9\" class=\"edge\">\n",
       "<title>5&#45;&gt;9</title>\n",
       "<path fill=\"none\" stroke=\"black\" d=\"M450.71,-222.91C467.36,-210.88 485.56,-197.73 502.1,-185.79\"/>\n",
       "<polygon fill=\"black\" stroke=\"black\" points=\"504.52,-188.36 510.58,-179.67 500.42,-182.68 504.52,-188.36\"/>\n",
       "</g>\n",
       "<!-- 7 -->\n",
       "<g id=\"node8\" class=\"node\">\n",
       "<title>7</title>\n",
       "<polygon fill=\"#39e5c5\" stroke=\"black\" points=\"384,-68 243,-68 243,0 384,0 384,-68\"/>\n",
       "<text text-anchor=\"start\" x=\"276\" y=\"-52.8\" font-family=\"Times,serif\" font-size=\"14.00\">entropy = 0.0</text>\n",
       "<text text-anchor=\"start\" x=\"276.5\" y=\"-37.8\" font-family=\"Times,serif\" font-size=\"14.00\">samples = 13</text>\n",
       "<text text-anchor=\"start\" x=\"251\" y=\"-22.8\" font-family=\"Times,serif\" font-size=\"14.00\">value = [0, 0, 13, 0, 0]</text>\n",
       "<text text-anchor=\"start\" x=\"275.5\" y=\"-7.8\" font-family=\"Times,serif\" font-size=\"14.00\">class = drugC</text>\n",
       "</g>\n",
       "<!-- 6&#45;&gt;7 -->\n",
       "<g id=\"edge7\" class=\"edge\">\n",
       "<title>6&#45;&gt;7</title>\n",
       "<path fill=\"none\" stroke=\"black\" d=\"M363.71,-103.73C357.25,-94.88 350.4,-85.51 343.91,-76.63\"/>\n",
       "<polygon fill=\"black\" stroke=\"black\" points=\"346.55,-74.31 337.83,-68.3 340.9,-78.44 346.55,-74.31\"/>\n",
       "</g>\n",
       "<!-- 8 -->\n",
       "<g id=\"node9\" class=\"node\">\n",
       "<title>8</title>\n",
       "<polygon fill=\"#3c39e5\" stroke=\"black\" points=\"543,-68 402,-68 402,0 543,0 543,-68\"/>\n",
       "<text text-anchor=\"start\" x=\"435\" y=\"-52.8\" font-family=\"Times,serif\" font-size=\"14.00\">entropy = 0.0</text>\n",
       "<text text-anchor=\"start\" x=\"435.5\" y=\"-37.8\" font-family=\"Times,serif\" font-size=\"14.00\">samples = 15</text>\n",
       "<text text-anchor=\"start\" x=\"410\" y=\"-22.8\" font-family=\"Times,serif\" font-size=\"14.00\">value = [0, 0, 0, 15, 0]</text>\n",
       "<text text-anchor=\"start\" x=\"434\" y=\"-7.8\" font-family=\"Times,serif\" font-size=\"14.00\">class = drugX</text>\n",
       "</g>\n",
       "<!-- 6&#45;&gt;8 -->\n",
       "<g id=\"edge8\" class=\"edge\">\n",
       "<title>6&#45;&gt;8</title>\n",
       "<path fill=\"none\" stroke=\"black\" d=\"M422.92,-103.73C429.3,-94.88 436.06,-85.51 442.47,-76.63\"/>\n",
       "<polygon fill=\"black\" stroke=\"black\" points=\"445.46,-78.46 448.48,-68.3 439.79,-74.36 445.46,-78.46\"/>\n",
       "</g>\n",
       "</g>\n",
       "</svg>\n"
      ],
      "text/plain": [
       "<graphviz.files.Source at 0x7ff82dd42e20>"
      ]
     },
     "execution_count": 11,
     "metadata": {},
     "output_type": "execute_result"
    }
   ],
   "source": [
    "data = export_graphviz(model,\n",
    "                      feature_names=df.columns[:-1],\n",
    "                      out_file=None,\n",
    "                      class_names=np.unique(y_train),\n",
    "                      filled=True,\n",
    "                      special_characters=True,\n",
    "                      rotate=False)\n",
    "graph = Source(data)\n",
    "graph"
   ]
  },
  {
   "cell_type": "markdown",
   "metadata": {},
   "source": [
    "Let's save the model:"
   ]
  },
  {
   "cell_type": "code",
   "execution_count": 12,
   "metadata": {},
   "outputs": [],
   "source": [
    "pickle.dump(model, open('../saved_models/model_6.sav', 'wb'))"
   ]
  }
 ],
 "metadata": {
  "kernelspec": {
   "display_name": "Python 3",
   "language": "python",
   "name": "python3"
  },
  "language_info": {
   "codemirror_mode": {
    "name": "ipython",
    "version": 3
   },
   "file_extension": ".py",
   "mimetype": "text/x-python",
   "name": "python",
   "nbconvert_exporter": "python",
   "pygments_lexer": "ipython3",
   "version": "3.8.3"
  }
 },
 "nbformat": 4,
 "nbformat_minor": 4
}
